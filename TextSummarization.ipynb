{
 "cells": [
  {
   "cell_type": "markdown",
   "metadata": {},
   "source": [
    "# Workshop: Extractive Text Summarization - viral news online"
   ]
  },
  {
   "cell_type": "markdown",
   "metadata": {},
   "source": [
    "## 0. Preface & Load Packages"
   ]
  },
  {
   "cell_type": "code",
   "execution_count": 1,
   "metadata": {},
   "outputs": [],
   "source": [
    "# !pip install beautifulsoup4\n",
    "# !pip install requests\n",
    "import requests\n",
    "from bs4 import BeautifulSoup\n",
    "\n",
    "# !pip install nltk\n",
    "# import nltk\n",
    "# nltk.download('stopwords')\n",
    "from nltk.corpus import stopwords\n",
    "from nltk.stem import PorterStemmer\n",
    "from nltk.tokenize import word_tokenize, sent_tokenize"
   ]
  },
  {
   "cell_type": "markdown",
   "metadata": {},
   "source": [
    "## 1. Word Frequency Table"
   ]
  },
  {
   "cell_type": "code",
   "execution_count": 2,
   "metadata": {},
   "outputs": [],
   "source": [
    "def _create_frequency_table(text_string) -> dict:\n",
    "\n",
    "    stopWords = set(stopwords.words(\"english\"))\n",
    "    words = word_tokenize(text_string)\n",
    "    ps = PorterStemmer()\n",
    "\n",
    "    freqTable = dict()\n",
    "    for word in words:\n",
    "        word = ps.stem(word)\n",
    "        if word in stopWords:\n",
    "            continue\n",
    "        if word in freqTable:\n",
    "            freqTable[word] += 1\n",
    "        else:\n",
    "            freqTable[word] = 1\n",
    "\n",
    "    return freqTable"
   ]
  },
  {
   "cell_type": "markdown",
   "metadata": {},
   "source": [
    "## 2. Tokenize Sentences"
   ]
  },
  {
   "cell_type": "code",
   "execution_count": 3,
   "metadata": {},
   "outputs": [],
   "source": [
    "# sent_tokenize(text_string)"
   ]
  },
  {
   "cell_type": "markdown",
   "metadata": {},
   "source": [
    "## 3. Score the Sentences - Term Frequency"
   ]
  },
  {
   "cell_type": "code",
   "execution_count": 4,
   "metadata": {},
   "outputs": [],
   "source": [
    "def _score_sentences(sentences, freqTable) -> dict:\n",
    "    sentenceValue = dict()\n",
    "\n",
    "    for sentence in sentences:\n",
    "        word_count_in_sentence = (len(word_tokenize(sentence)))\n",
    "        for wordValue in freqTable:\n",
    "            if wordValue in sentence.lower():\n",
    "                if sentence[:10] in sentenceValue:\n",
    "                    sentenceValue[sentence[:10]] += freqTable[wordValue]\n",
    "                else:\n",
    "                    sentenceValue[sentence[:10]] = freqTable[wordValue]\n",
    "\n",
    "        sentenceValue[sentence[:10]] = sentenceValue[sentence[:10]] // word_count_in_sentence\n",
    "\n",
    "    return sentenceValue"
   ]
  },
  {
   "cell_type": "markdown",
   "metadata": {},
   "source": [
    "## 4. Create a Threshold using Average Score"
   ]
  },
  {
   "cell_type": "code",
   "execution_count": 5,
   "metadata": {},
   "outputs": [],
   "source": [
    "def _find_average_score(sentenceValue) -> int:\n",
    "    sumValues = 0\n",
    "    for entry in sentenceValue:\n",
    "        sumValues += sentenceValue[entry]\n",
    "\n",
    "    # Average value of a sentence from original text\n",
    "    average = int(sumValues / len(sentenceValue))\n",
    "\n",
    "    return average"
   ]
  },
  {
   "cell_type": "markdown",
   "metadata": {},
   "source": [
    "## 5. Generate Summary"
   ]
  },
  {
   "cell_type": "code",
   "execution_count": 6,
   "metadata": {},
   "outputs": [],
   "source": [
    "def _generate_summary(sentences, sentenceValue, threshold):\n",
    "    sentence_count = 0\n",
    "    summary = ''\n",
    "\n",
    "    for sentence in sentences:\n",
    "        if sentence[:10] in sentenceValue and sentenceValue[sentence[:10]] > (threshold):\n",
    "            summary += \" \" + sentence\n",
    "            sentence_count += 1\n",
    "\n",
    "    return summary"
   ]
  },
  {
   "cell_type": "markdown",
   "metadata": {},
   "source": [
    "## 6. Comparing the Original Text versus Summary"
   ]
  },
  {
   "cell_type": "code",
   "execution_count": 7,
   "metadata": {},
   "outputs": [
    {
     "name": "stdout",
     "output_type": "stream",
     "text": [
      "<<Title>>\n",
      "Transgender student shares distressing experience of MOE allegedly blocking her HRT treatment - The Online Citizen Asia\n",
      "\n",
      "<<Original text>>\n",
      "Using a throwaway account on reddit/r/SGExams, one transgender student recalled her difficult experience in school, specifically with the Ministry of Education (MOE) allegedly interfering her hormone replacement therapy (HRT) treatment that was prescribed by her doctor after she was diagnosed with gender dysphoria.\n",
      "The student recalled her experience in an all-boys-primary school, describing it as “the worse period of my life”.\n",
      "She wrote, “I couldn’t fit in and constantly got bullied because I was ‘too soft’ and ‘needed to man up to the bullies’.\n",
      "Things started looking up when she started attending a co-ed secondary school where she made more friends and started better understand her identity.\n",
      "It was then that she was taken to the gender clinic at the Institute of Mental Health (IMH). There, she was diagnosed with gender dysphoria.\n",
      "When she informed the MOE of her diagnosis via her junior college (JC), the MOE replied was: “This is a new issue and we would like to work with you to learn more about it”, as she quoted in the post.\n",
      "However, after several months when she was due to begin hormone therapy, there was a snag as the MOE intervened.\n",
      "She wrote, “Then, as I was about to undergo hormone therapy (a treatment explicitly stated in the ICD-10, again, and recommended by the multiple doctors attending to trans patients in Singapore) the request was suddenly blocked as the MOE had intervened, apparently for the reason ‘students in MOE schools are under our control, and we have every right and say over their treatment’.”\n",
      "As such, she said her doctor “had to call off the referral” and causing her further mental trauma as it affected her ability to present and pass as a female.\n",
      "On top of that, she was also instructed to cut off her hair to fit into the approved boys’ hairstyle in the school’s handbook. She had to wear a uniform designed for male students.\n",
      "If she proceeded with hormone therapy and is unable to fit into the male uniform, she was threatened with expulsion, instead of the school allowing her to wear the female uniform.\n",
      "“The principal’s explanation for this was that ‘due to your presentation, you would be disruptive to the school environment as a student with severe autism’,” she recalled.\n",
      "About the issues with the school dress code, she said: “That could probably have slipped under the radar but it seems unlikely as all these troubles started in the same month.”\n",
      "She ended her post by asking, “What right does the MOE have over the MOH? Why is the MOE interfering with my medical care, and the irony of MOE advocating for mental health issues. I cannot speak for others, but in my experience, these are outright lies and just a farce to gain support from the younger generations of students.”\n",
      "In a comment replying to another Redditor on the thread who suggested that the MOE would not intervene with her treatment without parental consent,  she said that she was informed that the doctor has a meeting with higher-ups in the MOE.\n",
      "She wrote, “I understand that MOE essentially reprimanded my doctor and told him not to write letter to schools or referrals for hormone therapy/treatment.”\n",
      "\n",
      "Another person alleged that it was definitely the MOE’s fault, citing a similar case where both parents consented to their child undergoing HRT but the school did not allow it.\n",
      "\n",
      "Worryingly, several replies to the thread shared similar incidents of LGBT students facing discrimination in schools.\n",
      "Another transgender student said another transgender girl in her JC wasn’t allowed to start HRT because she did not “pass” enough—meaning she did not ‘pass’ as a girl—and the school would expel her for ruining its reputation and image if she started transitioning.\n",
      "\n",
      "One Redditor who identified themselves as “one of the people running TransgenderSG” said that there have been much worse cases of schools and the MOE allegedly preventing students from transitioning and prohibiting doctors from giving them HRT which resulted in suicide.\n",
      "\n",
      "Stories from other Redditors are just as harrowing.\n",
      "From a girl’s exam results being withheld over allegations that she is a lesbian to a “gay witch-hunt” of LGBT students in a school and even “surprise conversion therapy”.\n",
      "\n",
      "\n",
      "\n",
      "Together with Sayoni, TransgenderSG has collaborated with the Asia Pacific Transgender Networl (APTN) on a joint stakeholder report to the United Nations, in preparation for Singapore’s third Universal Periodic Review (UPR) this year.\n",
      "The report, which was released in October 2020, references data from the first nationwide survey of the country’s transgender community.\n",
      "One of the six areas of concern highlighted in the report includes the discrimination, abuse and restrictions faced by transgender students.\n",
      "Specifically, 77.6 per cent of transgender students surveyed by TransgenderSG reported negative experiences in school ranging from bullying to sexual abuse. Less than 30 per cent agreed or strongly agreed that they felt safe in school and only 24 per cent said they had a staff member they could reach out to for support.\n",
      "In a statement on the report, TransgenderSG said, “School administrators have implemented unreasonable demands that pressure even high-performing transgender students to drop out of school, or sought to prevent them from transitioning or pursuing HRT, sometimes by contacting their healthcare providers without the student’s or their parents’ knowledge or consent.”\n",
      "“This joint report on transgender rights is the most important document ever produced to understand the impact of violence and discrimination against transgender persons in Singapore,” said Jean Chong of Sayoni.\n",
      "She said that while “state and non-state actors have sometimes paid lip service to the inclusion of trans persons, it is nonetheless difficult to square this with the systemic failure in their policies which leads to the lack of protection for transgender persons”.\n",
      "Citing Article 1 of the Universal Declaration of Human Rights, which states that “All human beings are born free and equal in dignity and rights”, Ms Chong said: “Trans rights are human rights. Nothing more and nothing less.”\n",
      "A spokesperson for Transgender SG said: “For a long time, the challenges and struggles facing the transgender community in Singapore have long gone unheard.”\n",
      "“With this report, we want to shed some light on these issues and how even small policy actions can go a long way in enabling trans people here to live safe, fulfilling lives that will benefit not just them but the rest of Singapore,” the spokesperson stressed.\n",
      " © 2006 - 2021 The Online Citizen\n",
      "© 2006 - 2021 The Online Citizen\n",
      "\n",
      "\n",
      "<<Summary>>\n",
      " The student recalled her experience in an all-boys-primary school, describing it as “the worse period of my life”. There, she was diagnosed with gender dysphoria. Worryingly, several replies to the thread shared similar incidents of LGBT students facing discrimination in schools. Specifically, 77.6 per cent of transgender students surveyed by TransgenderSG reported negative experiences in school ranging from bullying to sexual abuse.\n",
      "\n",
      "<<Title>>\n",
      "S'porean youth detained under ISA over alleged plans to attack Muslims at two mosques; netizens call for rehabilitation instead of retributive punishment - The Online Citizen Asia\n",
      "\n",
      "<<Original text>>\n",
      "A 16-year-old Singaporean was detained in December last year under the Internal Security Act (ISA) for allegedly drawing up “detailed plans and preparations” to attack Muslims at two mosques in Singapore using a machete, said the Internal Security Department (ISD) on Wednesday (27 January).\n",
      "According to the ISD in a statement today, the youth, who is a Protestant Christian of Indian ethnicity, “is the first detainee to be inspired by far-right extremist ideology” and the youngest individual so far to be detained under the ISA for terrorism-related activities.\n",
      "Brenton Tarrant, the Australian gunman singlehandedly responsible for the Christchurch mosque massacre that took 51 lives in March 2019, had purportedly influenced the youth’s views.\n",
      "The ISD said that the youth had watched the live-stream of the attack and read Tarrant’s manifesto.\n",
      "“He had also watched Islamic State in Iraq and Syria (ISIS) propaganda videos, and came to the erroneous conclusion that ISIS represented Islam, and that Islam called on its followers to kill non-believers,” the ISD explaiined, in highlighting the youth’s “strong antipathy towards Islam”.\n",
      "The youth, said ISD, had planned to carry out his attacks on 15 March this year, on the anniversary of the Christchurch attacks.\n",
      "“He chose Assyafaah Mosque and Yusof Ishak Mosque as his targets, because they were near his home. He conducted online reconnaissance and research on both mosques to prepare for the attack,” the ISD added.\n",
      "The youth had also allegedly planned to drive between the two attack sites and created a plan to obtain a vehicle for that purpose.\n",
      "He had also reportedly “bought a tactical vest from an online platform, and intended to adorn the vest with right-wing extremist symbols, and modify it so that he could strap on his mobile device to livestream the attack”, in a bid to replicate Tarrant’s Christchurch attack, said the ISD.\n",
      "Prior to settling on the machete, the youth had considered using a rifle similar to that used by Tarrant, the ISD noted.\n",
      "“He managed to find a prospective seller via a private chat platform, but did not follow through with the purchase when he suspected it was a scam.\n",
      "“He nevertheless persisted to search for firearms online, and only gave up the idea when he realised that it would be difficult to get his hands on one, given Singapore’s strict gun-control laws,” said the ISD.\n",
      "The youth had also experimented with making a Triacetone Triperoxide (TATP) bomb and “mimicking Tarrant’s plan of setting fire to the mosques with gasoline”.\n",
      "“He eventually dropped both ideas due to logistical and personal safety concerns,” according to the ISD.\n",
      "In the process of preparing himself for the machete attacks he was planning to carry out, the youth had apparently watched YouTube videos on how to do so, said the ISD.\n",
      "The ISD said that the youth “was confident that he would be able to hit the arteries of his targets by randomly slashing at the neck and chest areas”.\n",
      "“At the point of his arrest by ISD, the youth had found his choice machete on Carousell but had not purchased it yet,” the ISD added.\n",
      "Further following the footsteps of Tarrant, said the ISD, the youth had prepared two documents which he intended to disseminate before carrying out his planned attacks.\n",
      "The first was a message to the people of France — drafted after the attack against Christians in a church in the city of Nice on 29 October last year.\n",
      "“In the message, he called on the French people to “stand up for what is right”, claiming that “we cannot let them [i.e. Muslims] lurk in our bushes and wait for them to attack”.\n",
      "“He referred to his intended attacks as a “massacre”, an “act of vengeance” and a “call for war” against Islam. He also referred to readers as a “great audience”, in reference to his intention to livestream his attacks,” according to the ISD.\n",
      "The second document, yet to be completed at the time of the youth’s arrest, was “a manifesto detailing his hatred for Islam and his belief that “violence should never be solved with peace”, because peace, while “moral”, is “nowhere near effective” as violence”, said the ISD.\n",
      "The ISD added: “He also expressed hope that “my act of extremism or some would call ‘a justifiable act of violence.’ … would cause a change in those who believe that Islamic extremism is right”. The draft borrowed heavily from Tarrant’s manifesto and referred to Tarrant as a “saint” and the Christchurch attacks as a “justifiable killing of Muslims”.\n",
      "According to the ISD, the youth had allegedly confessed during investigations that he was only able to see two outcomes to his plan: either risking an arrest prior to even carrying out the attacks, or being “killed by the Police” when he carries out his plan.\n",
      "Highlighting the isolated nature of the youth’s actions, the ISD said that its investigation did not reveal any attempt at influencing others with his extreme outlook or to involve others in his attack plans.\n",
      "“His immediate family and others in his social circles were not aware of his attack plans and the depth of his hatred for Islam,” said the ISD.\n",
      "The youth’s case, said the ISD, “demonstrates yet again that extreme ideas can find resonance among and radicalise Singaporeans, regardless of race or religion”.\n",
      "ISD urged the public to stay alert to suspicious items and individuals and to inform the authorities by calling 999, sending an SMS to 71999 or using the “Report” function in the SGSecure application. \n",
      "Members of the public are also encouraged to familiarise themselves with SGSecure advisories such as “Run, Hide, Tell” and “Press, Tie, Tell”. These advisories provide important information on what to do in the event of a terror attack, and how to render first aid to others in their immediate surroundings.\n",
      "Commenting on The Straits Times’ Facebook post on the issue, one Muslim netizen hopes that the authorities would still take into account the youth’s age in dealing with him.\n",
      "“Im muslim and i don’t wanna see he (sic) get punishment he should be educated,” they said.\n",
      "\n",
      "A couple of other commenters held the same view, preferring rehabilitation over retribution against the youth.\n",
      "\n",
      "One commenter, however, praised the ISD for “preventing such a vile act from happening”, adding that it is due to state surveillance that the authorities are “able to prevent” such acts from recurring.\n",
      "\n",
      "One commenter urged the authorities to investigate which church the youth attends to see if it is imparting “extreme views” or “have influenced him”.\n",
      "\n",
      "A couple of commenters called for greater security measures to be implemented in places of worship, including prohibiting big bags and enforcing mandatory deployment of armed security forces in such places.\n",
      "\n",
      "\n",
      " © 2006 - 2021 The Online Citizen\n",
      "© 2006 - 2021 The Online Citizen\n",
      "\n",
      "\n",
      "<<Summary>>\n",
      " He conducted online reconnaissance and research on both mosques to prepare for the attack,” the ISD added. “He eventually dropped both ideas due to logistical and personal safety concerns,” according to the ISD.\n",
      "\n",
      "<<Title>>\n",
      "Netizens suggest students should be afforded choice to opt out from high-element activities in school camps - The Online Citizen Asia\n",
      "\n",
      "<<Original text>>\n",
      "Source: TODAY\n",
      "All schools have suspended outdoor activities involving heights such as rock climbing and rope obstacles with immediate effect, following the death of a student who fell during a high-element activity at Safra Yishun last week, The Straits Times reported.\n",
      "The boy, aged 15 from Anglo-Chinese School (Independent) was taken to Khoo Teck Puat Hospital (KTPH) after the incident at about 2 pm on 3 February and was pronounced dead the next morning.\n",
      "The police said in a statement on 4 Feb that the victim had “allegedly lost his footing while participating in a high-element course, but was suspended by the safety harness and subsequently lost consciousness when he was lowered to the ground”.\n",
      "Camp programmes were first offered by the Ministry of Education (MOE) in April 2016 as part of Singapore’s National Outdoor Adventure Education Masterplan, including a new five-day multi-school Secondary 3 cohort camp.\n",
      "Students participate in about two or three school cohort camps at upper primary and secondary levels, which provide them with the authentic outdoor environments — including high-element activities involving students clearing an obstacle course at a height — to apply their learning.\n",
      "These experiences obtained during these camps are believed able to instil resilience, ruggedness, tenacity and ability to work well in teams in students so that they will be confident to seize future opportunities and tackle challenges together to build a better nation.\n",
      "Following this incident, netizens on Facebook opined that high-element activities should not be made compulsory for students to join, especially those with “phobias”, as these activities can be “a mental torture” and pose pressure to them to do well among peers.\n",
      "Several others also suggested many other options should be made available for students to participate in order to build their characters, saying that forcing them to join high-element activities could be “traumatising” for the students.\n",
      "\n",
      "Meanwhile, many others said that these activities are necessary, provided that safety procedures are enhanced, as accidents can happen at all times.\n",
      "Safety protocols should be “reviewed and reassessed” to avoid accidents from repeating in the future, they said, with one netizen stressing that people should “be prepared, not scared”.\n",
      "Many users also suggested that these activities should be continued.\n",
      "One commenter said that students do not deserve to get the learning benefits gained from these camps to be stripped away from them.\n",
      "      \n",
      " © 2006 - 2021 The Online Citizen\n",
      "© 2006 - 2021 The Online Citizen\n",
      "\n",
      "\n",
      "<<Summary>>\n",
      " Students participate in about two or three school cohort camps at upper primary and secondary levels, which provide them with the authentic outdoor environments — including high-element activities involving students clearing an obstacle course at a height — to apply their learning. Several others also suggested many other options should be made available for students to participate in order to build their characters, saying that forcing them to join high-element activities could be “traumatising” for the students. Meanwhile, many others said that these activities are necessary, provided that safety procedures are enhanced, as accidents can happen at all times. Many users also suggested that these activities should be continued.\n",
      "\n"
     ]
    }
   ],
   "source": [
    "# you may use any list, just check that webpage can be read by 'requests'\n",
    "url_list = ['https://www.theonlinecitizen.com/2021/01/15/transgender-student-shares-distressing-experience-of-moe-blocking-her-hrt-treatment/',\n",
    "'https://www.theonlinecitizen.com/2021/01/27/sporean-youth-detained-under-isa-over-alleged-plans-to-attack-muslims-at-two-mosques-netizens-call-for-rehabilitation-instead-of-retributive-punishment/',\n",
    "'https://www.theonlinecitizen.com/2021/02/09/netizens-suggest-students-should-be-afforded-choice-to-opt-out-from-high-element-activities-in-school-camps/']\n",
    "\n",
    "for url in url_list:\n",
    "    # 0 read each url\n",
    "    news = requests.get(url)\n",
    "    soup = BeautifulSoup(news.text, 'lxml')\n",
    "    \n",
    "    # 0 get title\n",
    "    title = soup.title\n",
    "    \n",
    "    # 0 get text\n",
    "    text = ''\n",
    "    for i in soup.find_all('p'):\n",
    "        text += i.get_text() + '\\n'\n",
    "    \n",
    "    # 1 Create the word frequency table\n",
    "    freq_table = _create_frequency_table(text)\n",
    "\n",
    "    # 2 Tokenize the sentences\n",
    "    sentences = sent_tokenize(text)\n",
    "\n",
    "    # 3 Important Algorithm: score the sentences\n",
    "    sentence_scores = _score_sentences(sentences, freq_table)\n",
    "\n",
    "    # 4 Find the threshold\n",
    "    threshold = _find_average_score(sentence_scores)\n",
    "\n",
    "    # 5 Important Algorithm: Generate the summary\n",
    "    summary = _generate_summary(sentences, sentence_scores, 1.5 * threshold) # user should vary the value '1.5'\n",
    "    \n",
    "    print('<<Title>>')\n",
    "    print(title.get_text() + '\\n')\n",
    "    print('<<Original text>>')\n",
    "    print(text + '\\n')\n",
    "    print('<<Summary>>')\n",
    "    print(summary + '\\n')"
   ]
  },
  {
   "cell_type": "markdown",
   "metadata": {},
   "source": [
    "#### Comments: Text summarization is a cool technique for quick reading. Do compare with original posts:\n",
    "\n",
    "   [Transgender student shares distressing experience of MOE allegedly blocking her HRT treatment](https://www.theonlinecitizen.com/2021/01/15/transgender-student-shares-distressing-experience-of-moe-blocking-her-hrt-treatment/)\n",
    "    \n",
    "   [S’porean youth detained under ISA over alleged plans to attack Muslims at two mosques; netizens call for rehabilitation instead of retributive punishment](https://www.theonlinecitizen.com/2021/01/27/sporean-youth-detained-under-isa-over-alleged-plans-to-attack-muslims-at-two-mosques-netizens-call-for-rehabilitation-instead-of-retributive-punishment/)\n",
    "\n",
    "   [Netizens suggest students should be afforded choice to opt out from high-element activities in school camps](https://www.theonlinecitizen.com/2021/02/09/netizens-suggest-students-should-be-afforded-choice-to-opt-out-from-high-element-activities-in-school-camps/)\n",
    "   \n",
    "#### In part 6, user should experiment with different values x threshold. (1.5 was used for this example)"
   ]
  },
  {
   "cell_type": "markdown",
   "metadata": {},
   "source": [
    "#### Special thanks to Akash Panchal on his post.\n",
    "   [NLP — Text summarization in 5 steps using NLTK: WordFrequency Algorithm](https://becominghuman.ai/text-summarization-in-5-steps-using-nltk-65b21e352b6)  "
   ]
  }
 ],
 "metadata": {
  "kernelspec": {
   "display_name": "Python 3",
   "language": "python",
   "name": "python3"
  },
  "language_info": {
   "codemirror_mode": {
    "name": "ipython",
    "version": 3
   },
   "file_extension": ".py",
   "mimetype": "text/x-python",
   "name": "python",
   "nbconvert_exporter": "python",
   "pygments_lexer": "ipython3",
   "version": "3.7.6"
  }
 },
 "nbformat": 4,
 "nbformat_minor": 2
}
